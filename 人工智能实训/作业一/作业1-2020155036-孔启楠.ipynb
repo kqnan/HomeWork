{
 "cells": [
  {
   "cell_type": "markdown",
   "id": "1c2f03ef",
   "metadata": {},
   "source": [
    "# 姓名：孔启楠\n",
    "# 学号：2020155036"
   ]
  },
  {
   "cell_type": "markdown",
   "id": "e8c79a1a",
   "metadata": {},
   "source": [
    "# Problem1:\n",
    "---\n",
    "#### P65 4.We defined the tensor `X` of `shape (2, 3, 4)` in this section. What is the output of `len(X)`?   \n",
    "#### 翻译：本节中定义了形状的张量`X(2 , 3, 4)`,`len(X)`的输出结果是什么？"
   ]
  },
  {
   "cell_type": "code",
   "execution_count": 5,
   "id": "4d70f820",
   "metadata": {},
   "outputs": [
    {
     "name": "stdout",
     "output_type": "stream",
     "text": [
      "tensor([[[ 0,  1,  2,  3],\n",
      "         [ 4,  5,  6,  7],\n",
      "         [ 8,  9, 10, 11]],\n",
      "\n",
      "        [[12, 13, 14, 15],\n",
      "         [16, 17, 18, 19],\n",
      "         [20, 21, 22, 23]]])\n",
      "长度：2\n"
     ]
    }
   ],
   "source": [
    "import torch\n",
    "X = torch.arange(24).reshape(2, 3, 4)\n",
    "print(X)\n",
    "print(\"长度：\"+str(len(X)))"
   ]
  },
  {
   "cell_type": "markdown",
   "id": "f50e333a",
   "metadata": {},
   "source": [
    "# Problem2:\n",
    "---\n",
    "#### P65 5.For a tensor `X` of arbitrary shape, does `len(X)` always correspond to the length of a certain axis of `X`? What is that axis?    \n",
    "#### 翻译：对于任意形状的张量`X`,`len(X)`是否总是对应于X特定轴的长度?这个轴是什么?"
   ]
  },
  {
   "cell_type": "code",
   "execution_count": 8,
   "id": "652b24a8",
   "metadata": {},
   "outputs": [
    {
     "name": "stdout",
     "output_type": "stream",
     "text": [
      "张量X的长度：3\n",
      "张量X1的长度：3\n"
     ]
    }
   ],
   "source": [
    "import torch\n",
    "X = torch.tensor([3.0,2.0,1.0])\n",
    "X1 = torch.tensor([[3.0],[2.0],[1.0]])\n",
    "print(\"张量X的长度：\"+str(len(X)))\n",
    "print(\"张量X1的长度：\"+str(len(X1)))"
   ]
  },
  {
   "cell_type": "markdown",
   "id": "96d1527d",
   "metadata": {},
   "source": [
    "#### 分析：对于任意形状的张量，`len(X)`的值是第一个维度的大小,即x轴。"
   ]
  },
  {
   "cell_type": "markdown",
   "id": "09a4dfe0",
   "metadata": {},
   "source": [
    "# Problem3:\n",
    "---\n",
    "#### P65 6.Run `A / A.sum(axis=1)` and see what happens. Can you analyze the reason?     \n",
    "#### 翻译：运行`A/A.sum(axis=1)`，看看会发生什么。请分析一下原因？"
   ]
  },
  {
   "cell_type": "code",
   "execution_count": 11,
   "id": "22d028b5",
   "metadata": {},
   "outputs": [
    {
     "name": "stdout",
     "output_type": "stream",
     "text": [
      "tensor([[0.0000, 0.1667, 0.3333, 0.5000],\n",
      "        [0.1818, 0.2273, 0.2727, 0.3182],\n",
      "        [0.2105, 0.2368, 0.2632, 0.2895],\n",
      "        [0.2222, 0.2407, 0.2593, 0.2778],\n",
      "        [0.2286, 0.2429, 0.2571, 0.2714]])\n"
     ]
    }
   ],
   "source": [
    "import torch\n",
    "A = torch.arange(20, dtype=torch.float32).reshape(5, 4)\n",
    "print(A/A.sum(axis=1,keepdims=True))"
   ]
  },
  {
   "cell_type": "markdown",
   "id": "20d079f4",
   "metadata": {},
   "source": [
    "#### 分析：`sum`函数是求和函数，若指定了参数axis，那么将对该轴进行求和，题目中制定了`axis=1`，即列求和。因此`A.sum`得到的是每一行求和的结果的一个张量。而`keepdims`则表示结果张量和输入张量的维度保持不变，下面是`A.sum`的输出，可以看到，是一个二维张量。每行代表原始张量在该行的求和。"
   ]
  },
  {
   "cell_type": "code",
   "execution_count": 12,
   "id": "c6d5e862",
   "metadata": {},
   "outputs": [
    {
     "name": "stdout",
     "output_type": "stream",
     "text": [
      "tensor([[ 6.],\n",
      "        [22.],\n",
      "        [38.],\n",
      "        [54.],\n",
      "        [70.]])\n"
     ]
    }
   ],
   "source": [
    "import torch\n",
    "A = torch.arange(20, dtype=torch.float32).reshape(5, 4)\n",
    "print(A.sum(axis=1,keepdims=True))"
   ]
  },
  {
   "cell_type": "markdown",
   "id": "1d72c029",
   "metadata": {},
   "source": [
    "# Problem4:\n",
    "---\n",
    "#### P65 8.Consider a tensor with `shape (2, 3, 4)`. What are the shapes of the summation outputs along axis 0, 1, and 2?\n",
    "#### 翻译：考虑一个具有形状`shape (2, 3, 4)`的张量，在轴0、1、2上的求和输出是什么形状?"
   ]
  },
  {
   "cell_type": "code",
   "execution_count": 18,
   "id": "d45c4bf4",
   "metadata": {},
   "outputs": [
    {
     "name": "stdout",
     "output_type": "stream",
     "text": [
      "在轴0上求和输出的形状：torch.Size([3, 4])\n",
      "在轴1上求和输出的形状：torch.Size([2, 4])\n",
      "在轴2上求和输出的形状：torch.Size([2, 3])\n"
     ]
    }
   ],
   "source": [
    "import torch\n",
    "A = torch.arange(24, dtype=torch.float32).reshape(2,3,4)\n",
    "print(\"在轴0上求和输出的形状：\"+str(A.sum(axis=0).shape))\n",
    "print(\"在轴1上求和输出的形状：\"+str(A.sum(axis=1).shape))\n",
    "print(\"在轴2上求和输出的形状：\"+str(A.sum(axis=2).shape))"
   ]
  },
  {
   "cell_type": "markdown",
   "id": "ee010d3d",
   "metadata": {},
   "source": [
    "# Problem5:\n",
    "---\n",
    "#### P65 9.Feed a tensor with 3 or more axes to the linalg.norm function and observe its output. What does this function compute for tensors of arbitrary shape?\n",
    "#### 翻译：为linalg.norm函数提供3个或更多轴的张量，并观察其输出。对于任意形状的张量这个函数计算得到什么?"
   ]
  },
  {
   "cell_type": "code",
   "execution_count": 4,
   "id": "4699f311",
   "metadata": {},
   "outputs": [
    {
     "name": "stdout",
     "output_type": "stream",
     "text": [
      "65.757126\n"
     ]
    }
   ],
   "source": [
    "import torch\n",
    "import numpy as np\n",
    "A = torch.arange(24, dtype=torch.float32).reshape(2,3,4)\n",
    "print(np.linalg.norm(A))"
   ]
  },
  {
   "cell_type": "markdown",
   "id": "5b037705",
   "metadata": {},
   "source": [
    "#### 分析：`np.linalg.norm(x, ord=None, axis=None, keepdims=False)`函数用于求范数。其中参数`x`表示需要求范数的张量，参数`ord`表示范数类型，默认是二范数，参数`axis`表示以哪个轴来求范数，默认为`none`，表示求整个张量的范数，参数`keepdims`表示是否保存和原张量一样的维度"
   ]
  },
  {
   "cell_type": "markdown",
   "id": "1e21f837",
   "metadata": {},
   "source": [
    "# Problem6:\n",
    "---\n",
    "#### P71 1.Plot the function `y = f(x) = x^3-1/x` and its tangent line when `x = 1`.  \n",
    "#### 翻译：画出函数`y = f(x) = x^3-1/x` 以及它在 `x = 1` 时的切线"
   ]
  },
  {
   "cell_type": "code",
   "execution_count": 1,
   "id": "3fcd5861",
   "metadata": {},
   "outputs": [
    {
     "data": {
      "image/png": "[encoded data removed]",
      "text/plain": [
       "<Figure size 640x480 with 1 Axes>"
      ]
     },
     "metadata": {},
     "output_type": "display_data"
    }
   ],
   "source": [
    "%matplotlib inline\n",
    "import numpy as np\n",
    "from matplotlib_inline import backend_inline\n",
    "from d2l import torch as d2l\n",
    "def f(x):\n",
    "    return x**3 - 1 / x\n",
    "X = np.arange(0.1, 3, 0.1)    \n",
    "Y0 = f(X)  #计算函数\n",
    "Y1 = 4*X-4  #计算x = 1 时的切线\n",
    "X=[X]\n",
    "Y = [Y0,Y1]\n",
    "if len(X)!=len(Y):\n",
    "    X=X*len(Y)\n",
    "axis = d2l.plt.gca() \n",
    "fmts=('-', 'm--', 'g-.', 'r:')\n",
    "for x,y,fmt in zip(X,Y,fmts):\n",
    "    axis.plot(x,y,fmt)\n",
    "axis.legend(['f(x)', 'Tangent line (x=1)'])\n",
    "axis.set_xlabel(\"x\")\n",
    "axis.set_ylabel(\"y\")\n",
    "axis.grid()"
   ]
  },
  {
   "attachments": {
    "image.png": {
     "image/png": "[encoded data removed]"
    }
   },
   "cell_type": "markdown",
   "id": "cfa4efcf",
   "metadata": {},
   "source": [
    "# Problem7\n",
    "---\n",
    "#### P71 2.Find the gradient of the function ![image.png](attachment:image.png)  \n",
    "#### 翻译：求函数![image.png](attachment:image.png)的梯度"
   ]
  },
  {
   "attachments": {
    "image-2.png": {
     "image/png": "[encoded data removed]"
    }
   },
   "cell_type": "markdown",
   "id": "d961a294",
   "metadata": {},
   "source": [
    "#### 解：![image-2.png](attachment:image-2.png)"
   ]
  },
  {
   "cell_type": "markdown",
   "id": "1f0e7081",
   "metadata": {},
   "source": [
    "# Problem8\n",
    "---\n",
    "#### P75 2.After running the function for backpropagation, immediately run it again and see what happens.\n",
    "#### 翻译：在运行反向传播函数之后，立即再次运行它，看看会发生什么。"
   ]
  },
  {
   "cell_type": "code",
   "execution_count": null,
   "id": "655d7ef8",
   "metadata": {},
   "outputs": [],
   "source": [
    "import torch\n",
    "x = torch.arange(4.0)\n",
    "x.requires_grad=True\n",
    "print(x)\n",
    "y = 2 *torch.dot(x,x)\n",
    "y.backward()\n",
    "y.backward()\n",
    "print(x.grad)"
   ]
  },
  {
   "cell_type": "markdown",
   "id": "684097e8",
   "metadata": {},
   "source": [
    "#### 运行时错误： Trying to backward through the graph a second time (or directly access saved tensors after they have already been freed). Saved intermediate values of the graph are freed when you call .backward() or autograd.grad(). Specify retain_graph=True if you need to backward through the graph a second time or if you need to access saved tensors after calling backward.\n",
    "#### 分析：在第一次进行backward之后，计算的中间变量已被释放，再次backward便会出错。如果想再次backward，可以在第一次backward时，加上参数retain_graph=True。"
   ]
  },
  {
   "cell_type": "markdown",
   "id": "9c09a424",
   "metadata": {},
   "source": [
    "# Problem9\n",
    "---\n",
    "#### P75 3.In the control flow example where we calculate the derivative of d with respect to a, what would happen if we changed the variable a to a random vector or matrix. At this point, the result of the calculation f(a) is no longer a scalar. What happens to the result? How do we analyze this?\n",
    "#### 翻译：在控制流的例子中，我们计算d关于a的导数，如果将变量a更改为随机向量或矩阵，会发生什么，并分析？"
   ]
  },
  {
   "cell_type": "code",
   "execution_count": null,
   "id": "24fe008f",
   "metadata": {},
   "outputs": [],
   "source": [
    "import torch\n",
    "def f(a):\n",
    "    b = a * 2\n",
    "    while b.norm() < 1000:\n",
    "        b = b * 2\n",
    "    if b.sum() > 0:\n",
    "        c = b\n",
    "    else:\n",
    "        c = 100 * b\n",
    "    return c\n",
    "a = torch.randn(size=[3], requires_grad=True)  #生成一个3维向量\n",
    "d = f(a)\n",
    "d.backward()\n",
    "print(a.grad == d/a)"
   ]
  },
  {
   "cell_type": "markdown",
   "id": "77597583",
   "metadata": {},
   "source": [
    "#### 运行时错误： grad can be implicitly created only for scalar outputs\n",
    "#### 分析：当函数值为向量时，不能直接调用backward。否则会出错。可以在backward中附带参数或者如下："
   ]
  },
  {
   "cell_type": "code",
   "execution_count": 4,
   "id": "6e95f1f5",
   "metadata": {},
   "outputs": [
    {
     "name": "stdout",
     "output_type": "stream",
     "text": [
      "tensor([True, True, True])\n"
     ]
    }
   ],
   "source": [
    "import torch\n",
    "def f(a):\n",
    "    b = a * 2\n",
    "    while b.norm() < 1000:\n",
    "        b = b * 2\n",
    "    if b.sum() > 0:\n",
    "        c = b\n",
    "    else:\n",
    "        c = 100 * b\n",
    "    return c\n",
    "a = torch.randn(size=[3], requires_grad=True)\n",
    "d = f(a)\n",
    "d.sum().backward()   #先调用sum把向量改为标量，在求导\n",
    "print(a.grad == d/a)"
   ]
  },
  {
   "attachments": {},
   "cell_type": "markdown",
   "id": "2562ad33",
   "metadata": {},
   "source": [
    "# Problem10\n",
    "---\n",
    "#### P75 5.使得f(x)=sin(x)，绘制f(x)和df(x)/dx的图像，其中后者不使用f'(x)=cos(x)"
   ]
  },
  {
   "cell_type": "markdown",
   "id": "418d65c9",
   "metadata": {},
   "source": [
    "#### 分析：使用导数的定义求出f'(x)"
   ]
  },
  {
   "cell_type": "code",
   "execution_count": 15,
   "id": "f8b391d6",
   "metadata": {},
   "outputs": [
    {
     "data": {
      "image/png": "[encoded data removed]",
      "text/plain": [
       "<Figure size 640x480 with 1 Axes>"
      ]
     },
     "metadata": {},
     "output_type": "display_data"
    }
   ],
   "source": [
    "import matplotlib.pyplot as plt\n",
    "import numpy as np\n",
    "import torch\n",
    "\n",
    "def f(x):\n",
    "    return np.sin(x)\n",
    "def get_derivative(x):\n",
    "    h=1e-4\n",
    "    return (f(x+h)-f(x))/h\n",
    "legend=['f(x)=sin(x)',\"f'(x)=lim(f(x+h)-f(x))/h\"]\n",
    "axis=plt.gca()\n",
    "X=np.arange(0,3,0.1)\n",
    "Y=f(X)\n",
    "axis.plot(X,Y)\n",
    "axis.plot(X,get_derivative(X))\n",
    "axis.legend(legend)\n",
    "axis.grid()"
   ]
  }
 ],
 "metadata": {
  "kernelspec": {
   "display_name": "Python 3 (ipykernel)",
   "language": "python",
   "name": "python3"
  },
  "language_info": {
   "codemirror_mode": {
    "name": "ipython",
    "version": 3
   },
   "file_extension": ".py",
   "mimetype": "text/x-python",
   "name": "python",
   "nbconvert_exporter": "python",
   "pygments_lexer": "ipython3",
   "version": "3.9.13"
  }
 },
 "nbformat": 4,
 "nbformat_minor": 5
}
